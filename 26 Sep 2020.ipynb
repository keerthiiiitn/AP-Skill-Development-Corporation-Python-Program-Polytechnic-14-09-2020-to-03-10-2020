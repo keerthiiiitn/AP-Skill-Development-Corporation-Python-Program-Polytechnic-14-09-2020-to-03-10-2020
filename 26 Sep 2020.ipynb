{
 "cells": [
  {
   "cell_type": "markdown",
   "metadata": {},
   "source": [
    "### RegEx Conti..."
   ]
  },
  {
   "cell_type": "code",
   "execution_count": 1,
   "metadata": {},
   "outputs": [],
   "source": [
    "import re"
   ]
  },
  {
   "cell_type": "code",
   "execution_count": 7,
   "metadata": {},
   "outputs": [
    {
     "name": "stdout",
     "output_type": "stream",
     "text": [
      "ApSSdc@123\n",
      "['A', 'p', 'S', 'S', 'd', 'c']\n"
     ]
    }
   ],
   "source": [
    "# [] --> A set of characters\n",
    "data = input()\n",
    "res = re.findall('[a-zA-Z]',data)\n",
    "print(res)"
   ]
  },
  {
   "cell_type": "code",
   "execution_count": 3,
   "metadata": {},
   "outputs": [
    {
     "name": "stdout",
     "output_type": "stream",
     "text": [
      "apssdc@123 python\n",
      "['apssdc', 'python']\n"
     ]
    }
   ],
   "source": [
    "data = input()\n",
    "res = re.findall('[a-z]+',data)\n",
    "print(res)"
   ]
  },
  {
   "cell_type": "code",
   "execution_count": 4,
   "metadata": {},
   "outputs": [
    {
     "name": "stdout",
     "output_type": "stream",
     "text": [
      "apssdc123 12345\n",
      "['1', '2', '3', '1', '2', '3', '4', '5']\n"
     ]
    }
   ],
   "source": [
    "data = input()\n",
    "res = re.findall('[0-9]',data)\n",
    "print(res)"
   ]
  },
  {
   "cell_type": "code",
   "execution_count": 5,
   "metadata": {},
   "outputs": [
    {
     "name": "stdout",
     "output_type": "stream",
     "text": [
      "apssdc123 123456\n",
      "['123', '123456']\n"
     ]
    }
   ],
   "source": [
    "data = input()\n",
    "res = re.findall('[0-9]+',data)\n",
    "print(res)"
   ]
  },
  {
   "cell_type": "code",
   "execution_count": 6,
   "metadata": {},
   "outputs": [
    {
     "name": "stdout",
     "output_type": "stream",
     "text": [
      "apssdc123 456 1234567\n",
      "['123', '456', '123', '456']\n"
     ]
    }
   ],
   "source": [
    "data = input()\n",
    "res = re.findall('[0-9]{3}',data)\n",
    "print(res)"
   ]
  },
  {
   "cell_type": "code",
   "execution_count": 8,
   "metadata": {},
   "outputs": [
    {
     "name": "stdout",
     "output_type": "stream",
     "text": [
      "apssdc@123\n",
      "['apssdc', '', '', '', '', '']\n"
     ]
    }
   ],
   "source": [
    "data = input()\n",
    "res = re.findall('[a-z]*',data)\n",
    "print(res)"
   ]
  },
  {
   "cell_type": "code",
   "execution_count": 10,
   "metadata": {},
   "outputs": [
    {
     "name": "stdout",
     "output_type": "stream",
     "text": [
      "0\n"
     ]
    }
   ],
   "source": [
    "s = ''\n",
    "print(len(s))"
   ]
  },
  {
   "cell_type": "code",
   "execution_count": 11,
   "metadata": {},
   "outputs": [
    {
     "name": "stdout",
     "output_type": "stream",
     "text": [
      "apssdc@123\n",
      "['', '', '', '', '', '', '', '123', '']\n"
     ]
    }
   ],
   "source": [
    "data = input()\n",
    "res = re.findall('[0-9]*',data)\n",
    "print(res)"
   ]
  },
  {
   "cell_type": "code",
   "execution_count": 13,
   "metadata": {},
   "outputs": [
    {
     "name": "stdout",
     "output_type": "stream",
     "text": [
      "akhil anitha a\n",
      "a\n"
     ]
    }
   ],
   "source": [
    "data = input().split()\n",
    "for s in data:\n",
    "    if re.findall('^a$',s):\n",
    "        print(s)"
   ]
  },
  {
   "cell_type": "code",
   "execution_count": 14,
   "metadata": {},
   "outputs": [
    {
     "name": "stdout",
     "output_type": "stream",
     "text": [
      "akhil anitha keerthi \n",
      "akhil\n",
      "anitha\n"
     ]
    }
   ],
   "source": [
    "data = input().split()\n",
    "for s in data:\n",
    "    if re.findall('^a[a-z]+',s):\n",
    "        print(s)"
   ]
  },
  {
   "cell_type": "code",
   "execution_count": 23,
   "metadata": {},
   "outputs": [
    {
     "name": "stdout",
     "output_type": "stream",
     "text": [
      "aruna akhil anil\n",
      "aruna\n",
      "akhil\n"
     ]
    }
   ],
   "source": [
    "data = input().split()\n",
    "for s in data:\n",
    "    if re.findall('^a[a-z]{4}$',s):\n",
    "        print(s)"
   ]
  },
  {
   "cell_type": "code",
   "execution_count": 18,
   "metadata": {},
   "outputs": [
    {
     "name": "stdout",
     "output_type": "stream",
     "text": [
      "akhil aruna apparna anitha\n",
      "aruna\n",
      "apparna\n"
     ]
    }
   ],
   "source": [
    "data = input().split()\n",
    "for s in data:\n",
    "    if re.findall('^a[^kn][a-z]+',s):\n",
    "        print(s)"
   ]
  },
  {
   "cell_type": "code",
   "execution_count": 27,
   "metadata": {
    "scrolled": true
   },
   "outputs": [
    {
     "name": "stdout",
     "output_type": "stream",
     "text": [
      "akhil ArunA Anitha apparnA ajay akumar akum3ar\n",
      "ArunA\n",
      "Anitha\n",
      "apparnA\n",
      "ajay\n",
      "akumar\n"
     ]
    }
   ],
   "source": [
    "# The string should be starts with 'a' & ends with 'a'\n",
    "data = input().split()\n",
    "for s in data:\n",
    "    if re.findall('^[aA][a-z]+[Aa]',s):\n",
    "        print(s)"
   ]
  },
  {
   "cell_type": "code",
   "execution_count": 28,
   "metadata": {},
   "outputs": [
    {
     "name": "stdout",
     "output_type": "stream",
     "text": [
      "akhil ArunA Anitha apparnA ajay akumar akum3ar\n",
      "ArunA\n",
      "Anitha\n",
      "apparnA\n",
      "ajay\n",
      "akumar\n",
      "akum3ar\n"
     ]
    }
   ],
   "source": [
    "# The string should be starts with 'a' & ends with 'a'\n",
    "data = input().split()\n",
    "for s in data:\n",
    "    if re.findall('^[aA][a-z0-9]+[Aa]',s):\n",
    "        print(s)"
   ]
  },
  {
   "cell_type": "code",
   "execution_count": 29,
   "metadata": {},
   "outputs": [
    {
     "name": "stdout",
     "output_type": "stream",
     "text": [
      "akhil ArunA Anitha apparnA ajay akumar akum3ar\n",
      "ArunA\n",
      "Anitha\n",
      "apparnA\n"
     ]
    }
   ],
   "source": [
    "ata = input().split()\n",
    "for s in data:\n",
    "    if re.findall('^[aA][a-z]+[Aa]$',s):\n",
    "        print(s)"
   ]
  },
  {
   "cell_type": "code",
   "execution_count": null,
   "metadata": {},
   "outputs": [],
   "source": [
    "abc@123\n",
    "apssdc$123\n",
    "python&abcd"
   ]
  },
  {
   "cell_type": "code",
   "execution_count": 30,
   "metadata": {},
   "outputs": [
    {
     "name": "stdout",
     "output_type": "stream",
     "text": [
      "apssdc abc&abc123 keerthi@456\n",
      "abc&abc123\n",
      "keerthi@456\n"
     ]
    }
   ],
   "source": [
    "data = input().split()\n",
    "for s in data:\n",
    "    if re.findall('[a-z]+[!@#$%^&][a-z0-9]+',s):\n",
    "        print(s)"
   ]
  },
  {
   "cell_type": "code",
   "execution_count": 31,
   "metadata": {},
   "outputs": [
    {
     "name": "stdout",
     "output_type": "stream",
     "text": [
      "python$\n",
      "python$\n"
     ]
    }
   ],
   "source": [
    "data = input().split()\n",
    "for s in data:\n",
    "    if re.findall('[a-z]+[!@#$%^&]',s):\n",
    "        print(s)"
   ]
  },
  {
   "cell_type": "code",
   "execution_count": null,
   "metadata": {},
   "outputs": [],
   "source": [
    "# Phone number validation\n",
    "# [6789]or[6-9][0-9]{9}\n",
    "# +91-7123456780\n",
    "#91-8123456780"
   ]
  },
  {
   "cell_type": "code",
   "execution_count": 38,
   "metadata": {},
   "outputs": [
    {
     "name": "stdout",
     "output_type": "stream",
     "text": [
      "92345\n",
      "Valid Number : 92345\n"
     ]
    }
   ],
   "source": [
    "data = input()\n",
    "pattern = '^[6-9][0-9]{4,9}'\n",
    "if re.match(pattern,data):\n",
    "    print('Valid Number :',data)\n",
    "else:\n",
    "    print('Invalid Number :',data)"
   ]
  },
  {
   "cell_type": "code",
   "execution_count": 35,
   "metadata": {},
   "outputs": [
    {
     "name": "stdout",
     "output_type": "stream",
     "text": [
      "6123456\n",
      "Invalid Number : 6123456\n"
     ]
    }
   ],
   "source": [
    "data = input()\n",
    "pattern = '^[6-9][0-9]{9}$'\n",
    "if re.match(pattern,data):\n",
    "    print('Valid Number :',data)\n",
    "else:\n",
    "    print('Invalid Number :',data)"
   ]
  },
  {
   "cell_type": "code",
   "execution_count": null,
   "metadata": {},
   "outputs": [],
   "source": [
    "pattern = '^[+][9][1][-][6-9][0-9]{9}$'"
   ]
  },
  {
   "cell_type": "code",
   "execution_count": 42,
   "metadata": {},
   "outputs": [
    {
     "name": "stdout",
     "output_type": "stream",
     "text": [
      "+91-8123456789\n",
      "Valid Number : +91-8123456789\n"
     ]
    }
   ],
   "source": [
    "data = input()\n",
    "pattern = '^[+][9][1][-][6-9][0-9]{9}$|[6-9][0-9]{9}$'\n",
    "if re.match(pattern,data):\n",
    "    print('Valid Number :',data)\n",
    "else:\n",
    "    print('Invalid Number :',data)"
   ]
  },
  {
   "cell_type": "code",
   "execution_count": null,
   "metadata": {},
   "outputs": [],
   "source": []
  }
 ],
 "metadata": {
  "kernelspec": {
   "display_name": "Python 3",
   "language": "python",
   "name": "python3"
  },
  "language_info": {
   "codemirror_mode": {
    "name": "ipython",
    "version": 3
   },
   "file_extension": ".py",
   "mimetype": "text/x-python",
   "name": "python",
   "nbconvert_exporter": "python",
   "pygments_lexer": "ipython3",
   "version": "3.8.3"
  }
 },
 "nbformat": 4,
 "nbformat_minor": 4
}
