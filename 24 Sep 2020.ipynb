{
 "cells": [
  {
   "cell_type": "markdown",
   "metadata": {},
   "source": [
    "## File Handling\n",
    "- A file is collection of data\n",
    "- A file is a named location to store relative information\n",
    "- Compare to other programming languages handling the file is very easy in python.\n",
    "\n",
    "### Steps in File Handling\n",
    "1. Open a file\n",
    "2. Doing the operations\n",
    "3. Close a file\n",
    "\n",
    "### File Operations\n",
    "- Open a file\n",
    "- Read\n",
    "- Write\n",
    "- Close\n",
    "\n",
    "### Different types of modes in python\n",
    "- 'x'- Create mode : To create the .txt file\n",
    "- 'r'- Read mode : To read data from the file\n",
    "- 'w'- Write mode : To write data into the file or modify it. Write mode overwrite the data present in the file.\n",
    "- 'a'-Append mode : Data will be appended at the end of the file.\n",
    "- 'r+'-Read or Write mode\n",
    "- 'a+'- Append or Read moe"
   ]
  },
  {
   "cell_type": "code",
   "execution_count": 4,
   "metadata": {},
   "outputs": [],
   "source": [
    "# Create the file\n",
    "f = open('data2.txt','x')\n",
    "f.close()"
   ]
  },
  {
   "cell_type": "code",
   "execution_count": 5,
   "metadata": {},
   "outputs": [
    {
     "name": "stdout",
     "output_type": "stream",
     "text": [
      "online python programming\n",
      "apssdc 2007\n",
      "Good evening to all\n",
      "hello world\n"
     ]
    }
   ],
   "source": [
    "# Read the file\n",
    "f = open('data2.txt','r')\n",
    "fh = f.read()\n",
    "print(fh)\n",
    "f.close()"
   ]
  },
  {
   "cell_type": "code",
   "execution_count": 9,
   "metadata": {},
   "outputs": [
    {
     "name": "stdout",
     "output_type": "stream",
     "text": [
      "hello, hai everyone\n",
      "online program on python\n",
      "Welcome to all\n",
      "\n"
     ]
    }
   ],
   "source": [
    "with open('data2.txt','r') as file:\n",
    "    print(file.read())\n",
    "    file.close()"
   ]
  },
  {
   "cell_type": "code",
   "execution_count": 7,
   "metadata": {},
   "outputs": [],
   "source": [
    "# Write mode\n",
    "with open('data2.txt','w') as f:\n",
    "    f.write('hello, hai everyone\\n')\n",
    "    f.close()"
   ]
  },
  {
   "cell_type": "code",
   "execution_count": 8,
   "metadata": {},
   "outputs": [],
   "source": [
    "with open('data2.txt','a') as f:\n",
    "    f.write('online program on python\\n')\n",
    "    f.write('Welcome to all\\n')\n",
    "    f.close()"
   ]
  },
  {
   "cell_type": "code",
   "execution_count": 10,
   "metadata": {},
   "outputs": [
    {
     "name": "stdout",
     "output_type": "stream",
     "text": [
      "['hello, hai everyone\\n', 'online program on python\\n', 'Welcome to all\\n']\n"
     ]
    }
   ],
   "source": [
    "# readlines\n",
    "with open('data2.txt','r') as f:\n",
    "    print(f.readlines())\n",
    "    f.close()"
   ]
  },
  {
   "cell_type": "code",
   "execution_count": 11,
   "metadata": {},
   "outputs": [
    {
     "name": "stdout",
     "output_type": "stream",
     "text": [
      "hello, hai everyone\n",
      "online program on python\n",
      "Welcome to all\n",
      "\n"
     ]
    }
   ],
   "source": [
    "with open('data2.txt','r') as f:\n",
    "    print(f.read())\n",
    "    f.close()"
   ]
  },
  {
   "cell_type": "code",
   "execution_count": 15,
   "metadata": {},
   "outputs": [
    {
     "name": "stdout",
     "output_type": "stream",
     "text": [
      "hello, hai everyone\n",
      "online program on python\n",
      "Welcome to all\n"
     ]
    }
   ],
   "source": [
    "f = open('data2.txt','r')\n",
    "fh = f.read()\n",
    "for lines in fh:\n",
    "    print(lines,end='')"
   ]
  },
  {
   "cell_type": "code",
   "execution_count": 23,
   "metadata": {},
   "outputs": [
    {
     "name": "stdout",
     "output_type": "stream",
     "text": [
      "['hello,', 'hai', 'everyone', 'online', 'program', 'on', 'python', 'Welcome', 'to', 'all']\n",
      "10\n"
     ]
    }
   ],
   "source": [
    "f = open('data2.txt','r')\n",
    "fh = f.read()\n",
    "words = fh.split()\n",
    "print(words)\n",
    "print(len(words))"
   ]
  },
  {
   "cell_type": "code",
   "execution_count": 22,
   "metadata": {},
   "outputs": [
    {
     "name": "stdout",
     "output_type": "stream",
     "text": [
      "['hello', ' hai everyone\\nonline program on python\\nWelcome to all\\n']\n",
      "2\n"
     ]
    }
   ],
   "source": [
    "f = open('data2.txt','r')\n",
    "fh = f.read()\n",
    "words = fh.split(',')\n",
    "print(words)\n",
    "print(len(words))"
   ]
  },
  {
   "cell_type": "code",
   "execution_count": 24,
   "metadata": {},
   "outputs": [
    {
     "name": "stdout",
     "output_type": "stream",
     "text": [
      "hello, hai@123 everyone\n",
      "online program on python 24 2020\n",
      "123 Welcome to all\n"
     ]
    }
   ],
   "source": [
    "f = open('data2.txt','r')\n",
    "print(f.read())"
   ]
  },
  {
   "cell_type": "code",
   "execution_count": 31,
   "metadata": {
    "scrolled": true
   },
   "outputs": [
    {
     "name": "stdout",
     "output_type": "stream",
     "text": [
      "24\n",
      "2020\n",
      "123\n"
     ]
    }
   ],
   "source": [
    "f = open('data2.txt','r')\n",
    "fh = f.read()\n",
    "words = fh.split()\n",
    "lst = []\n",
    "for word in words:\n",
    "    if word.isdigit():\n",
    "        print(word)"
   ]
  },
  {
   "cell_type": "code",
   "execution_count": 32,
   "metadata": {},
   "outputs": [
    {
     "name": "stdout",
     "output_type": "stream",
     "text": [
      "<class 'str'>\n"
     ]
    }
   ],
   "source": [
    "f = open('data2.txt','r')\n",
    "fh = f.read()\n",
    "words = fh.split()\n",
    "lst = []\n",
    "for word in words:\n",
    "    if word == '24':\n",
    "        print(type(word))"
   ]
  },
  {
   "cell_type": "code",
   "execution_count": 33,
   "metadata": {},
   "outputs": [
    {
     "name": "stdout",
     "output_type": "stream",
     "text": [
      "2167\n"
     ]
    }
   ],
   "source": [
    "f = open('data2.txt','r')\n",
    "fh = f.read()\n",
    "words = fh.split()\n",
    "s = 0\n",
    "for word in words:\n",
    "    if word.isdigit():\n",
    "        s += int(word)\n",
    "print(s)"
   ]
  },
  {
   "cell_type": "code",
   "execution_count": null,
   "metadata": {},
   "outputs": [],
   "source": [
    "### Tasks\n",
    "# 1. Program to findout frequency of the words in the given file\n",
    "# 2. Write a python program to return alpha numeric values in the given values\n",
    "# 3. Program to findout the words which contains string values,numeric values& special characters\n",
    "    Ex:hai@123"
   ]
  },
  {
   "cell_type": "code",
   "execution_count": null,
   "metadata": {},
   "outputs": [],
   "source": []
  },
  {
   "cell_type": "code",
   "execution_count": 34,
   "metadata": {},
   "outputs": [
    {
     "data": {
      "text/plain": [
       "{1: 10, 2: 20, 3: 30, 4: 40, 5: 50, 6: 60}"
      ]
     },
     "execution_count": 34,
     "metadata": {},
     "output_type": "execute_result"
    }
   ],
   "source": [
    "dic1={1:10,2:20}\n",
    "dic2={3:30,4:40}\n",
    "dic3={5:50,6:60}\n",
    "dic4 = {}\n",
    "for d in (dic1,dic2,dic3):\n",
    "    dic4.update(d)\n",
    "dic4"
   ]
  },
  {
   "cell_type": "code",
   "execution_count": 35,
   "metadata": {},
   "outputs": [
    {
     "data": {
      "text/plain": [
       "{1: 10, 2: 20, 3: 30, 4: 40}"
      ]
     },
     "execution_count": 35,
     "metadata": {},
     "output_type": "execute_result"
    }
   ],
   "source": [
    "# 2. Write a python program to add a key to a dictionary\n",
    "d = {1:10,2:20}\n",
    "d.update({3:30,4:40})\n",
    "d"
   ]
  },
  {
   "cell_type": "code",
   "execution_count": 36,
   "metadata": {},
   "outputs": [
    {
     "name": "stdout",
     "output_type": "stream",
     "text": [
      "{1: 3, 2: 2, 3: 2}\n"
     ]
    }
   ],
   "source": [
    "# Digit Frequency\n",
    "lst= [1,2,1,1,3,3,2]\n",
    "dic={}\n",
    "for i in lst: # i=1, i=2, i=1, i=1,i=3,i=3,i=2\n",
    "    if i not in dic: \n",
    "        dic[i] = 1 # {1:1,2:1,3:1}\n",
    "    else:\n",
    "        dic[i] = dic[i]+1 #{1:3,3:2,2:2}\n",
    "print(dic)"
   ]
  },
  {
   "cell_type": "code",
   "execution_count": 54,
   "metadata": {},
   "outputs": [
    {
     "name": "stdout",
     "output_type": "stream",
     "text": [
      "1 2 1 1 3 3 2 \n",
      " {1: 3, 2: 2, 3: 2}\n"
     ]
    }
   ],
   "source": [
    "lst= [1,2,1,1,3,3,2]\n",
    "dic={}\n",
    "for i in range(0,len(lst)): # i=1, i=2, i=1, i=1,i=3,i=3,i=2\n",
    "#     print(lst[i])\n",
    "    print(lst[i],end=\" \")\n",
    "    if lst[i] not in dic: \n",
    "        dic[lst[i]] = 1 # {1:1,2:1,3:1}\n",
    "    else:\n",
    "        dic[lst[i]] += 1 #{1:3,3:2,2:2}\n",
    "print(\"\\n\",dic)"
   ]
  },
  {
   "cell_type": "code",
   "execution_count": null,
   "metadata": {},
   "outputs": [],
   "source": []
  }
 ],
 "metadata": {
  "kernelspec": {
   "display_name": "Python 3",
   "language": "python",
   "name": "python3"
  },
  "language_info": {
   "codemirror_mode": {
    "name": "ipython",
    "version": 3
   },
   "file_extension": ".py",
   "mimetype": "text/x-python",
   "name": "python",
   "nbconvert_exporter": "python",
   "pygments_lexer": "ipython3",
   "version": "3.8.3"
  }
 },
 "nbformat": 4,
 "nbformat_minor": 4
}
