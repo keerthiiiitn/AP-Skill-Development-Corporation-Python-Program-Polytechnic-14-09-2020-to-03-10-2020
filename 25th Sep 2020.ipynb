{
 "cells": [
  {
   "cell_type": "code",
   "execution_count": null,
   "metadata": {},
   "outputs": [],
   "source": [
    "### Tasks \n",
    "# 1. Program to findout frequency of the words in the given file "
   ]
  },
  {
   "cell_type": "code",
   "execution_count": 4,
   "metadata": {},
   "outputs": [
    {
     "name": "stdout",
     "output_type": "stream",
     "text": [
      "program\n",
      "on\n",
      "python\n",
      "Welcome\n",
      "to\n",
      "all\n"
     ]
    }
   ],
   "source": [
    "f = open('data2.txt','r')\n",
    "fh = f.read()\n",
    "words = fh.split()\n",
    "#print(words)\n",
    "for word in words:\n",
    "    if word.isalpha():\n",
    "        print(word)"
   ]
  },
  {
   "cell_type": "code",
   "execution_count": 6,
   "metadata": {},
   "outputs": [
    {
     "name": "stdout",
     "output_type": "stream",
     "text": [
      "everyone13\n",
      "online123\n",
      "program\n",
      "on\n",
      "python\n",
      "24\n",
      "2020\n",
      "123\n",
      "Welcome\n",
      "to\n",
      "all\n"
     ]
    }
   ],
   "source": [
    "f = open('data2.txt','r')\n",
    "fh = f.read()\n",
    "words = fh.split()\n",
    "#print(words)\n",
    "for word in words:\n",
    "    if word.isalnum():\n",
    "        print(word)"
   ]
  },
  {
   "cell_type": "code",
   "execution_count": 7,
   "metadata": {},
   "outputs": [
    {
     "name": "stdout",
     "output_type": "stream",
     "text": [
      "hello,\n",
      "hai@123\n",
      "everyone13\n",
      "online123\n"
     ]
    }
   ],
   "source": [
    "f = open('data2.txt','r')\n",
    "fh = f.read()\n",
    "words = fh.split()\n",
    "#print(words)\n",
    "for word in words:\n",
    "    if word.isalpha():\n",
    "        pass\n",
    "    elif word.isdigit():\n",
    "        pass\n",
    "    else:\n",
    "        print(word)\n",
    "        "
   ]
  },
  {
   "cell_type": "code",
   "execution_count": 8,
   "metadata": {},
   "outputs": [
    {
     "name": "stdout",
     "output_type": "stream",
     "text": [
      "{'online': 1, 'program': 1, 'on': 1, 'python': 2, 'programming': 1}\n"
     ]
    }
   ],
   "source": [
    "f = open('data2.txt','r')\n",
    "fh = f.read()\n",
    "dic = {}\n",
    "for word in fh.split():\n",
    "    if word not in dic:\n",
    "        dic[word] = 1\n",
    "    else:\n",
    "        dic[word] += 1\n",
    "print(dic)"
   ]
  },
  {
   "cell_type": "code",
   "execution_count": 11,
   "metadata": {},
   "outputs": [
    {
     "name": "stdout",
     "output_type": "stream",
     "text": [
      "{1: 3, 2: 4, 3: 1}\n"
     ]
    }
   ],
   "source": [
    "lst = [1,2,3,1,1,2,2,2]\n",
    "dic= {}\n",
    "for i in lst: # i=1,i=2,i=3,i=1\n",
    "    dic[i] = lst.count(i)\n",
    "    #print(dic)\n",
    "print(dic)"
   ]
  },
  {
   "cell_type": "markdown",
   "metadata": {},
   "source": [
    "### Regular Expression\n",
    "\n",
    "#### What is Regular Expression in python\n",
    "- A RegEx is a sequence of characters that match a pattern.\n",
    "- It is a symbolic representation\n",
    "- Python has a built-in package called re, Which can be used to work with RegEx.\n",
    "- We have three methods in RegEx\n",
    "    1. match()\n",
    "    2. search()\n",
    "    3. findall()"
   ]
  },
  {
   "cell_type": "markdown",
   "metadata": {},
   "source": [
    "#### The re.match() Method\n",
    "- The re.match() finds match if it occurs at start of the string."
   ]
  },
  {
   "cell_type": "code",
   "execution_count": 12,
   "metadata": {},
   "outputs": [],
   "source": [
    "import re"
   ]
  },
  {
   "cell_type": "code",
   "execution_count": 13,
   "metadata": {},
   "outputs": [
    {
     "data": {
      "text/plain": [
       "<re.Match object; span=(0, 1), match='k'>"
      ]
     },
     "execution_count": 13,
     "metadata": {},
     "output_type": "execute_result"
    }
   ],
   "source": [
    "re.match('k','keerthi')"
   ]
  },
  {
   "cell_type": "code",
   "execution_count": 14,
   "metadata": {},
   "outputs": [],
   "source": [
    "re.match('k','manikanta')"
   ]
  },
  {
   "cell_type": "code",
   "execution_count": 18,
   "metadata": {},
   "outputs": [
    {
     "name": "stdout",
     "output_type": "stream",
     "text": [
      "kalyan pavan apssdc harika\n",
      "Invalid name\n",
      "Invalid name\n",
      "Valid name : apssdc\n",
      "Invalid name\n"
     ]
    }
   ],
   "source": [
    "names = input().split()\n",
    "for s in names:\n",
    "    if re.match('a',s):\n",
    "        print('Valid name :',s)\n",
    "    else:\n",
    "        print('Invalid name')"
   ]
  },
  {
   "cell_type": "markdown",
   "metadata": {},
   "source": [
    "### The re.search() Method in Python\n",
    "- The re.search() method is similar to re.match() method but it doesn't limit us to find matches at the begining of the string only.\n",
    "- The function searches for some substring in a string and return a match object if found, else it returns none."
   ]
  },
  {
   "cell_type": "code",
   "execution_count": 19,
   "metadata": {},
   "outputs": [
    {
     "data": {
      "text/plain": [
       "<re.Match object; span=(0, 1), match='k'>"
      ]
     },
     "execution_count": 19,
     "metadata": {},
     "output_type": "execute_result"
    }
   ],
   "source": [
    "re.search('k','karthik')"
   ]
  },
  {
   "cell_type": "code",
   "execution_count": 20,
   "metadata": {},
   "outputs": [
    {
     "data": {
      "text/plain": [
       "<re.Match object; span=(1, 2), match='k'>"
      ]
     },
     "execution_count": 20,
     "metadata": {},
     "output_type": "execute_result"
    }
   ],
   "source": [
    "re.search('k','akhil')"
   ]
  },
  {
   "cell_type": "code",
   "execution_count": 21,
   "metadata": {},
   "outputs": [
    {
     "name": "stdout",
     "output_type": "stream",
     "text": [
      "kalyan harika manikanta keerthi kavitha\n",
      "kalyan\n",
      "harika\n",
      "manikanta\n",
      "kavitha\n"
     ]
    }
   ],
   "source": [
    "names = input().split()\n",
    "for s in names:\n",
    "    if re.search('a',s):\n",
    "        print(s)"
   ]
  },
  {
   "cell_type": "code",
   "execution_count": 22,
   "metadata": {},
   "outputs": [
    {
     "name": "stdout",
     "output_type": "stream",
     "text": [
      "kalyan harika manikanta keerthi kavitha\n",
      "harika\n",
      "manikanta\n",
      "kavitha\n"
     ]
    }
   ],
   "source": [
    "names = input().split()\n",
    "for s in names:\n",
    "    if re.search('a$',s):\n",
    "        print(s)"
   ]
  },
  {
   "cell_type": "markdown",
   "metadata": {},
   "source": [
    "### The re.findall() Method\n",
    "- The re.findall() method helps to get a list of all matching patterns.\n",
    "- It searches from start or end of the given string."
   ]
  },
  {
   "cell_type": "code",
   "execution_count": 23,
   "metadata": {},
   "outputs": [
    {
     "data": {
      "text/plain": [
       "['a', 'a']"
      ]
     },
     "execution_count": 23,
     "metadata": {},
     "output_type": "execute_result"
    }
   ],
   "source": [
    "res = re.findall('a','kalyan')\n",
    "res"
   ]
  },
  {
   "cell_type": "code",
   "execution_count": 25,
   "metadata": {},
   "outputs": [
    {
     "name": "stdout",
     "output_type": "stream",
     "text": [
      "<re.Match object; span=(1, 2), match='a'>\n"
     ]
    }
   ],
   "source": [
    "res = re.search('a','kalyan')\n",
    "print(res)"
   ]
  },
  {
   "cell_type": "code",
   "execution_count": 26,
   "metadata": {},
   "outputs": [
    {
     "name": "stdout",
     "output_type": "stream",
     "text": [
      "harika kavitha\n",
      "harika\n",
      "kavitha\n"
     ]
    }
   ],
   "source": [
    "names = input().split()\n",
    "for s in names:\n",
    "    if re.findall('a',s):\n",
    "        print(s)"
   ]
  },
  {
   "cell_type": "code",
   "execution_count": 28,
   "metadata": {},
   "outputs": [
    {
     "name": "stdout",
     "output_type": "stream",
     "text": [
      "kavitha anitha harika\n",
      "['a', 'a', 'a', 'a', 'a', 'a']\n"
     ]
    }
   ],
   "source": [
    "names = input()\n",
    "res = re.findall('a',names)\n",
    "print(res)"
   ]
  },
  {
   "cell_type": "code",
   "execution_count": 29,
   "metadata": {},
   "outputs": [
    {
     "name": "stdout",
     "output_type": "stream",
     "text": [
      "kalyan\n",
      "['a', 'a']\n"
     ]
    }
   ],
   "source": [
    "# example of []\n",
    "name = input()\n",
    "res = re.findall('[a-h]',name)\n",
    "print(res)"
   ]
  },
  {
   "cell_type": "code",
   "execution_count": 30,
   "metadata": {},
   "outputs": [
    {
     "name": "stdout",
     "output_type": "stream",
     "text": [
      "Welcome to python session\n",
      "['e', 'c', 'e', 'h', 'e']\n"
     ]
    }
   ],
   "source": [
    "name = input()\n",
    "res = re.findall('[a-h]',name)\n",
    "print(res)"
   ]
  },
  {
   "cell_type": "code",
   "execution_count": 32,
   "metadata": {},
   "outputs": [
    {
     "name": "stdout",
     "output_type": "stream",
     "text": [
      "keerthi\n",
      "keerthi\n"
     ]
    }
   ],
   "source": [
    "import re\n",
    "name = input()\n",
    "if re.findall('[a-h]',name):\n",
    "    print(name)"
   ]
  },
  {
   "cell_type": "code",
   "execution_count": 33,
   "metadata": {},
   "outputs": [
    {
     "name": "stdout",
     "output_type": "stream",
     "text": [
      "that will be 59 dollars\n",
      "['5', '9']\n"
     ]
    }
   ],
   "source": [
    "# example of '\\d'\n",
    "data = input()\n",
    "# Find all digit characters\n",
    "res = re.findall('\\d',data)\n",
    "print(res)"
   ]
  },
  {
   "cell_type": "code",
   "execution_count": 34,
   "metadata": {},
   "outputs": [
    {
     "name": "stdout",
     "output_type": "stream",
     "text": [
      "python program\n",
      "[]\n"
     ]
    }
   ],
   "source": [
    "# example of '^'\n",
    "data = input()\n",
    "res = re.findall('^hello',data)\n",
    "print(res)"
   ]
  },
  {
   "cell_type": "code",
   "execution_count": 35,
   "metadata": {},
   "outputs": [
    {
     "name": "stdout",
     "output_type": "stream",
     "text": [
      "hai,hello\n",
      "[]\n"
     ]
    }
   ],
   "source": [
    "data = input()\n",
    "res = re.findall('^hello',data)\n",
    "print(res)"
   ]
  },
  {
   "cell_type": "code",
   "execution_count": 36,
   "metadata": {},
   "outputs": [
    {
     "name": "stdout",
     "output_type": "stream",
     "text": [
      "hello, hai everyone\n",
      "['hello']\n"
     ]
    }
   ],
   "source": [
    "data = input()\n",
    "res = re.findall('^hello',data)\n",
    "print(res)"
   ]
  },
  {
   "cell_type": "code",
   "execution_count": 39,
   "metadata": {},
   "outputs": [
    {
     "name": "stdout",
     "output_type": "stream",
     "text": [
      "hello,hai\n",
      "<re.Match object; span=(0, 5), match='hello'>\n"
     ]
    }
   ],
   "source": [
    "data = input()\n",
    "res = re.match('^hello',data)\n",
    "print(res)"
   ]
  },
  {
   "cell_type": "code",
   "execution_count": 40,
   "metadata": {},
   "outputs": [
    {
     "name": "stdout",
     "output_type": "stream",
     "text": [
      "hai hello\n",
      "None\n"
     ]
    }
   ],
   "source": [
    "data = input()\n",
    "res = re.match('hello$',data)\n",
    "print(res)"
   ]
  },
  {
   "cell_type": "code",
   "execution_count": 4,
   "metadata": {},
   "outputs": [
    {
     "name": "stdout",
     "output_type": "stream",
     "text": [
      "hai hello\n",
      "['hello']\n"
     ]
    }
   ],
   "source": [
    "import re\n",
    "data = input()\n",
    "res = re.findall('hello$',data)\n",
    "print(res)"
   ]
  },
  {
   "cell_type": "code",
   "execution_count": 5,
   "metadata": {},
   "outputs": [
    {
     "name": "stdout",
     "output_type": "stream",
     "text": [
      "python 123\n",
      "['1', '2', '3']\n"
     ]
    }
   ],
   "source": [
    "data = input()\n",
    "res = re.findall('[0-9]',data)\n",
    "print(res)"
   ]
  },
  {
   "cell_type": "code",
   "execution_count": 8,
   "metadata": {},
   "outputs": [
    {
     "name": "stdout",
     "output_type": "stream",
     "text": [
      "python 123\n",
      "123\n"
     ]
    }
   ],
   "source": [
    "data = input().split()\n",
    "for i in data:\n",
    "    if re.findall('[0-9]',i):\n",
    "        print(i)"
   ]
  },
  {
   "cell_type": "code",
   "execution_count": 9,
   "metadata": {},
   "outputs": [
    {
     "name": "stdout",
     "output_type": "stream",
     "text": [
      "python programming\n",
      "python\n",
      "programming\n"
     ]
    }
   ],
   "source": [
    "# '*' Zero or  more occurences\n",
    "data = input().split()\n",
    "for i in data:\n",
    "    if re.findall('[0-9]*',i):\n",
    "        print(i)"
   ]
  },
  {
   "cell_type": "code",
   "execution_count": 11,
   "metadata": {},
   "outputs": [
    {
     "name": "stdout",
     "output_type": "stream",
     "text": [
      "python programming\n"
     ]
    }
   ],
   "source": [
    "# '+' one or more occurences\n",
    "data = input().split()\n",
    "for i in data:\n",
    "    if re.findall('[0-9]+',i):\n",
    "        print(i)"
   ]
  },
  {
   "cell_type": "code",
   "execution_count": 12,
   "metadata": {},
   "outputs": [
    {
     "name": "stdout",
     "output_type": "stream",
     "text": [
      "python 123\n",
      "123\n"
     ]
    }
   ],
   "source": [
    "data = input().split()\n",
    "for i in data:\n",
    "    if re.findall('[0-9]+',i):\n",
    "        print(i)"
   ]
  },
  {
   "cell_type": "code",
   "execution_count": 13,
   "metadata": {},
   "outputs": [
    {
     "name": "stdout",
     "output_type": "stream",
     "text": [
      "python programming python\n",
      "['pyt', 'pyt']\n"
     ]
    }
   ],
   "source": [
    "data = input()\n",
    "res = re.findall('pyt*',data)\n",
    "print(res)"
   ]
  },
  {
   "cell_type": "code",
   "execution_count": 14,
   "metadata": {},
   "outputs": [
    {
     "name": "stdout",
     "output_type": "stream",
     "text": [
      "programming on c\n",
      "[]\n"
     ]
    }
   ],
   "source": [
    "data = input()\n",
    "res = re.findall('pyt*',data)\n",
    "print(res)"
   ]
  },
  {
   "cell_type": "code",
   "execution_count": 15,
   "metadata": {},
   "outputs": [
    {
     "name": "stdout",
     "output_type": "stream",
     "text": [
      "programming on c\n",
      "[]\n"
     ]
    }
   ],
   "source": [
    "data = input()\n",
    "res = re.findall('pyt+',data)\n",
    "print(res)"
   ]
  },
  {
   "cell_type": "code",
   "execution_count": 16,
   "metadata": {},
   "outputs": [
    {
     "name": "stdout",
     "output_type": "stream",
     "text": [
      "python@123\n",
      "['123']\n"
     ]
    }
   ],
   "source": [
    "name = input()\n",
    "res = re.findall('[0-9]+',name)\n",
    "print(res)"
   ]
  },
  {
   "cell_type": "code",
   "execution_count": 17,
   "metadata": {},
   "outputs": [
    {
     "name": "stdout",
     "output_type": "stream",
     "text": [
      "python\n",
      "[]\n"
     ]
    }
   ],
   "source": [
    "name = input()\n",
    "res = re.findall('[0-9]+',name)\n",
    "print(res)"
   ]
  },
  {
   "cell_type": "code",
   "execution_count": 18,
   "metadata": {},
   "outputs": [
    {
     "name": "stdout",
     "output_type": "stream",
     "text": [
      "python@123\n",
      "['', '', '', '', '', '', '', '123', '']\n"
     ]
    }
   ],
   "source": [
    "name = input()\n",
    "res = re.findall('[0-9]*',name)\n",
    "print(res)"
   ]
  },
  {
   "cell_type": "code",
   "execution_count": 21,
   "metadata": {},
   "outputs": [
    {
     "name": "stdout",
     "output_type": "stream",
     "text": [
      "k\n",
      "['', '']\n"
     ]
    }
   ],
   "source": [
    "name = input()\n",
    "res = re.findall('[0-9]*',name)\n",
    "print(res)"
   ]
  },
  {
   "cell_type": "code",
   "execution_count": null,
   "metadata": {},
   "outputs": [],
   "source": []
  }
 ],
 "metadata": {
  "kernelspec": {
   "display_name": "Python 3",
   "language": "python",
   "name": "python3"
  },
  "language_info": {
   "codemirror_mode": {
    "name": "ipython",
    "version": 3
   },
   "file_extension": ".py",
   "mimetype": "text/x-python",
   "name": "python",
   "nbconvert_exporter": "python",
   "pygments_lexer": "ipython3",
   "version": "3.8.3"
  }
 },
 "nbformat": 4,
 "nbformat_minor": 4
}
